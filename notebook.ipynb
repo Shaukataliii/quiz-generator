{
 "cells": [
  {
   "cell_type": "code",
   "execution_count": 207,
   "metadata": {},
   "outputs": [],
   "source": [
    "from langchain_codebase.codebase import *\n",
    "import pandas as pd\n",
    "import pickle"
   ]
  },
  {
   "cell_type": "markdown",
   "metadata": {},
   "source": [
    "### Basic Processing\n",
    "Approaching the problem"
   ]
  },
  {
   "cell_type": "code",
   "execution_count": 70,
   "metadata": {},
   "outputs": [],
   "source": [
    "BOOK_PATH = r\"src\\books\\Physics9EM.pdf\"\n",
    "UNIT_VALUE_EXTRACTION_PROMPT = \"\"\"\n",
    "Following is a chunk of a student's book. Extract nothing but the value of the Unit number from it.\n",
    "Chunk: {page_chunk}\n",
    "\"\"\""
   ]
  },
  {
   "cell_type": "code",
   "execution_count": 3,
   "metadata": {},
   "outputs": [],
   "source": [
    "docs = load_single_pdf(BOOK_PATH)"
   ]
  },
  {
   "cell_type": "code",
   "execution_count": 20,
   "metadata": {},
   "outputs": [
    {
     "data": {
      "text/plain": [
       "208"
      ]
     },
     "execution_count": 20,
     "metadata": {},
     "output_type": "execute_result"
    }
   ],
   "source": [
    "len(docs)"
   ]
  },
  {
   "cell_type": "code",
   "execution_count": 45,
   "metadata": {},
   "outputs": [],
   "source": [
    "page_no = 0\n",
    "\n",
    "def find_Unit_index_and_get_required_content(page_no):\n",
    "    page_content = docs[page_no].page_content\n",
    "    Unit_index = page_content.find('Unit ')\n",
    "\n",
    "    if Unit_index > 20:\n",
    "        s_index = Unit_index - 20\n",
    "    else:\n",
    "        s_index = Unit_index\n",
    "\n",
    "    required_content = page_content[(s_index):(Unit_index + 20)]\n",
    "\n",
    "    return Unit_index, required_content\n"
   ]
  },
  {
   "cell_type": "code",
   "execution_count": 56,
   "metadata": {},
   "outputs": [],
   "source": [
    "# checking if all the pages have the string \"Unit \"\n",
    "\n",
    "# for page_no in range(len(docs)):\n",
    "#     Unit_index, content = find_Unit_index_and_get_required_content(page_no)\n",
    "#     print(f\"\\nPage no: {page_no}, Unit index: {Unit_index}\")\n",
    "\n",
    "# All of them have"
   ]
  },
  {
   "cell_type": "code",
   "execution_count": 165,
   "metadata": {},
   "outputs": [],
   "source": [
    "from langchain_ollama import OllamaLLM\n",
    "from langchain.prompts import PromptTemplate\n",
    "\n",
    "def load_ollama_model(model: str = 'gemma2:2b'):\n",
    "    return OllamaLLM(model=model)\n",
    "\n",
    "def get_response_from_model(llm, prompt):\n",
    "    return llm.invoke(prompt)\n",
    "\n",
    "def get_quiz_generator_prompt():\n",
    "    prompt = PromptTemplate(\n",
    "        input_variables = ['no_questions', 'book_content'],\n",
    "        template = QUIZ_GENERATOR_PROMPT\n",
    "    )\n",
    "    return prompt"
   ]
  },
  {
   "cell_type": "code",
   "execution_count": 194,
   "metadata": {},
   "outputs": [],
   "source": [
    "class DocumentProcessor:\n",
    "    UNIT_WORD = \"Unit \"\n",
    "    EXTRA_CHARS_TO_EXTRACT_AROUND_UNIT_WORD = 20\n",
    "    UNIT_VAL_ENDING_VALS = [\":\", \"\\n\"]\n",
    "\n",
    "    def extract_details_from_docs_as_df(self, docs, book_name):\n",
    "        pages_with_no_unit_info = 0\n",
    "        book_data = {\n",
    "            'book_name': [],\n",
    "            'page_no': [],\n",
    "            'unit_no': [],\n",
    "            'content': []\n",
    "        }\n",
    "        for doc in docs:\n",
    "            page_no, unit_no, content = self.extract_page_no_unit_no_page_content_from_doc(doc)\n",
    "            book_data['page_no'].append(page_no)\n",
    "            book_data['unit_no'].append(unit_no)\n",
    "            book_data['content'].append(content)\n",
    "            book_data['book_name'].append(book_name)\n",
    "\n",
    "            if not unit_no.isnumeric():\n",
    "                pages_with_no_unit_info += 1\n",
    "\n",
    "        print(f\"Pages with no unit info: {pages_with_no_unit_info}\")\n",
    "        return pd.DataFrame(book_data)\n",
    "\n",
    "    def extract_page_no_unit_no_page_content_from_doc(self, doc):\n",
    "        page_no = doc.metadata['page']\n",
    "        page_content = doc.page_content\n",
    "        unit_no = self.extract_unit_no_from_content(page_content)\n",
    "\n",
    "        return (page_no, unit_no, page_content)\n",
    "\n",
    "    def extract_unit_no_from_content(self, content: str):\n",
    "        print(\"Extracting unit no...\")\n",
    "        chunk = self.extract_chunk_containing_unit_value(content)\n",
    "\n",
    "        unit_val_start_index = self.extract_unit_val_start_index(chunk)\n",
    "        unit_val_end_index = self.extract_unit_val_end_index(chunk)    \n",
    "\n",
    "        unit_val = chunk[unit_val_start_index:unit_val_end_index]\n",
    "        return unit_val\n",
    "\n",
    "    def extract_chunk_containing_unit_value(self, content: str):\n",
    "        unit_word_index_in_content = content.find(self.UNIT_WORD)\n",
    "\n",
    "        if self.is_found_invalid_index(unit_word_index_in_content):\n",
    "            return \"\"\n",
    "        \n",
    "        chunk_start_index = self.get_chunk_start_index(unit_word_index_in_content)\n",
    "        chunk_end_index = self.get_chunk_end_index(unit_word_index_in_content)\n",
    "\n",
    "        chunk = content[chunk_start_index:chunk_end_index]\n",
    "        return chunk\n",
    "\n",
    "    def get_chunk_start_index(self, unit_word_index):\n",
    "        if self.required_extra_chars_available_before_unit_word_index(unit_word_index):\n",
    "            chunk_start_index = unit_word_index - self.EXTRA_CHARS_TO_EXTRACT_AROUND_UNIT_WORD\n",
    "        else:\n",
    "            chunk_start_index = unit_word_index\n",
    "        return chunk_start_index\n",
    "\n",
    "    def required_extra_chars_available_before_unit_word_index(self, unit_word_index):\n",
    "        if unit_word_index > self.EXTRA_CHARS_TO_EXTRACT_AROUND_UNIT_WORD:\n",
    "            return True\n",
    "        else:\n",
    "            return False\n",
    "\n",
    "    def get_chunk_end_index(self, unit_word_index):\n",
    "        unit_word_end_index = unit_word_index + len(self.UNIT_WORD)\n",
    "        chunk_end_index = unit_word_end_index + self.EXTRA_CHARS_TO_EXTRACT_AROUND_UNIT_WORD\n",
    "        \n",
    "        # catch: if required extra chars are not available after unit_word_end_index then while extracting chunk from the content, by default the chunk will end when the content will end. No matter if chunk_end_index is greater than the length of the content.\n",
    "        return chunk_end_index\n",
    "\n",
    "\n",
    "    def extract_unit_val_start_index(self, chunk: str):\n",
    "        unit_word_index_in_chunk = chunk.find(self.UNIT_WORD)\n",
    "        unit_val_start_index = unit_word_index_in_chunk + len(self.UNIT_WORD)\n",
    "        return unit_val_start_index\n",
    "\n",
    "\n",
    "    def extract_unit_val_end_index(self, chunk: str):\n",
    "        for val in self.UNIT_VAL_ENDING_VALS:\n",
    "            if val in chunk:\n",
    "                unit_val_end_index = chunk.find(val)\n",
    "                return unit_val_end_index\n",
    "            else:\n",
    "                pass\n",
    "        \n",
    "        unit_val_end_index = len(chunk)\n",
    "        return unit_val_end_index\n",
    "\n",
    "\n",
    "    def is_found_invalid_index(self, index):\n",
    "        return True if (index == -1) else False"
   ]
  },
  {
   "cell_type": "code",
   "execution_count": 190,
   "metadata": {},
   "outputs": [],
   "source": [
    "doc_processor = DocumentProcessor()\n",
    "\n"
   ]
  },
  {
   "cell_type": "code",
   "execution_count": 137,
   "metadata": {},
   "outputs": [
    {
     "name": "stdout",
     "output_type": "stream",
     "text": [
      "Pages with no unit info: 5\n"
     ]
    }
   ],
   "source": [
    "# # checking number of docs with no unit info and saving the data\n",
    "# book_data = {\n",
    "#     'page_no': [],\n",
    "#     'unit_no': [],\n",
    "#     'content': []\n",
    "# }\n",
    "# pages_with_no_unit_info = 0\n",
    "\n",
    "# for doc in docs:\n",
    "#     page_no, unit_no, page_content = doc_processor.extract_page_no_unit_no_page_content_from_doc(doc)\n",
    "\n",
    "#     book_data['page_no'].append(page_no)\n",
    "#     book_data['unit_no'].append(unit_no)\n",
    "#     book_data['content'].append(content)\n",
    "    \n",
    "#     # print(unit_no)\n",
    "#     if not unit_no.isnumeric():\n",
    "#         pages_with_no_unit_info += 1\n",
    "\n",
    "# print(f\"Pages with no unit info: {pages_with_no_unit_info}\")"
   ]
  },
  {
   "cell_type": "code",
   "execution_count": 200,
   "metadata": {},
   "outputs": [],
   "source": [
    "doc_processor = DocumentProcessor()\n",
    "    \n",
    "def process_book_pdf_and_save_df(book_pdf_path):\n",
    "    path_separator = detect_path_separator_in_path(book_pdf_path)\n",
    "    book_name = book_pdf_path.split(path_separator)[-1].split(\".\")[0]\n",
    "    book_save_path = book_name + \".csv\"\n",
    "\n",
    "    df = extract_details_from_book_pdf_path_as_df(book_pdf_path, book_name)\n",
    "    df.to_csv(book_save_path, index=False)\n",
    "\n",
    "    print(f\"Book saved as: {book_save_path}\")\n",
    "\n",
    "def extract_details_from_book_pdf_path_as_df(book_pdf_path, book_name: str):\n",
    "    if is_valid_pdf_path(book_pdf_path):\n",
    "        docs = load_single_pdf(book_pdf_path)\n",
    "        df = doc_processor.extract_details_from_docs_as_df(docs, book_name)\n",
    "        return df\n",
    "\n",
    "def detect_path_separator_in_path(path):\n",
    "    if '\\\\' in path:\n",
    "        path_separator = \"\\\\\"\n",
    "    else:\n",
    "        path_separator = '/'\n",
    "\n",
    "    return path_separator\n",
    "    "
   ]
  },
  {
   "cell_type": "code",
   "execution_count": 201,
   "metadata": {},
   "outputs": [
    {
     "name": "stdout",
     "output_type": "stream",
     "text": [
      "Extracting page no, page content and unit no...\n",
      "Extracting unit no...\n",
      "Extracting page no, page content and unit no...\n",
      "Extracting unit no...\n",
      "Extracting page no, page content and unit no...\n",
      "Extracting unit no...\n",
      "Extracting page no, page content and unit no...\n",
      "Extracting unit no...\n",
      "Extracting page no, page content and unit no...\n",
      "Extracting unit no...\n",
      "Extracting page no, page content and unit no...\n",
      "Extracting unit no...\n",
      "Extracting page no, page content and unit no...\n",
      "Extracting unit no...\n",
      "Extracting page no, page content and unit no...\n",
      "Extracting unit no...\n",
      "Extracting page no, page content and unit no...\n",
      "Extracting unit no...\n",
      "Extracting page no, page content and unit no...\n",
      "Extracting unit no...\n",
      "Extracting page no, page content and unit no...\n",
      "Extracting unit no...\n",
      "Extracting page no, page content and unit no...\n",
      "Extracting unit no...\n",
      "Extracting page no, page content and unit no...\n",
      "Extracting unit no...\n",
      "Extracting page no, page content and unit no...\n",
      "Extracting unit no...\n",
      "Extracting page no, page content and unit no...\n",
      "Extracting unit no...\n",
      "Extracting page no, page content and unit no...\n",
      "Extracting unit no...\n",
      "Extracting page no, page content and unit no...\n",
      "Extracting unit no...\n",
      "Extracting page no, page content and unit no...\n",
      "Extracting unit no...\n",
      "Extracting page no, page content and unit no...\n",
      "Extracting unit no...\n",
      "Extracting page no, page content and unit no...\n",
      "Extracting unit no...\n",
      "Extracting page no, page content and unit no...\n",
      "Extracting unit no...\n",
      "Extracting page no, page content and unit no...\n",
      "Extracting unit no...\n",
      "Extracting page no, page content and unit no...\n",
      "Extracting unit no...\n",
      "Extracting page no, page content and unit no...\n",
      "Extracting unit no...\n",
      "Extracting page no, page content and unit no...\n",
      "Extracting unit no...\n",
      "Extracting page no, page content and unit no...\n",
      "Extracting unit no...\n",
      "Extracting page no, page content and unit no...\n",
      "Extracting unit no...\n",
      "Extracting page no, page content and unit no...\n",
      "Extracting unit no...\n",
      "Extracting page no, page content and unit no...\n",
      "Extracting unit no...\n",
      "Extracting page no, page content and unit no...\n",
      "Extracting unit no...\n",
      "Extracting page no, page content and unit no...\n",
      "Extracting unit no...\n",
      "Extracting page no, page content and unit no...\n",
      "Extracting unit no...\n",
      "Extracting page no, page content and unit no...\n",
      "Extracting unit no...\n",
      "Extracting page no, page content and unit no...\n",
      "Extracting unit no...\n",
      "Extracting page no, page content and unit no...\n",
      "Extracting unit no...\n",
      "Extracting page no, page content and unit no...\n",
      "Extracting unit no...\n",
      "Extracting page no, page content and unit no...\n",
      "Extracting unit no...\n",
      "Extracting page no, page content and unit no...\n",
      "Extracting unit no...\n",
      "Extracting page no, page content and unit no...\n",
      "Extracting unit no...\n",
      "Extracting page no, page content and unit no...\n",
      "Extracting unit no...\n",
      "Extracting page no, page content and unit no...\n",
      "Extracting unit no...\n",
      "Extracting page no, page content and unit no...\n",
      "Extracting unit no...\n",
      "Extracting page no, page content and unit no...\n",
      "Extracting unit no...\n",
      "Extracting page no, page content and unit no...\n",
      "Extracting unit no...\n",
      "Extracting page no, page content and unit no...\n",
      "Extracting unit no...\n",
      "Extracting page no, page content and unit no...\n",
      "Extracting unit no...\n",
      "Extracting page no, page content and unit no...\n",
      "Extracting unit no...\n",
      "Extracting page no, page content and unit no...\n",
      "Extracting unit no...\n",
      "Extracting page no, page content and unit no...\n",
      "Extracting unit no...\n",
      "Extracting page no, page content and unit no...\n",
      "Extracting unit no...\n",
      "Extracting page no, page content and unit no...\n",
      "Extracting unit no...\n",
      "Extracting page no, page content and unit no...\n",
      "Extracting unit no...\n",
      "Extracting page no, page content and unit no...\n",
      "Extracting unit no...\n",
      "Extracting page no, page content and unit no...\n",
      "Extracting unit no...\n",
      "Extracting page no, page content and unit no...\n",
      "Extracting unit no...\n",
      "Extracting page no, page content and unit no...\n",
      "Extracting unit no...\n",
      "Extracting page no, page content and unit no...\n",
      "Extracting unit no...\n",
      "Extracting page no, page content and unit no...\n",
      "Extracting unit no...\n",
      "Extracting page no, page content and unit no...\n",
      "Extracting unit no...\n",
      "Extracting page no, page content and unit no...\n",
      "Extracting unit no...\n",
      "Extracting page no, page content and unit no...\n",
      "Extracting unit no...\n",
      "Extracting page no, page content and unit no...\n",
      "Extracting unit no...\n",
      "Extracting page no, page content and unit no...\n",
      "Extracting unit no...\n",
      "Extracting page no, page content and unit no...\n",
      "Extracting unit no...\n",
      "Extracting page no, page content and unit no...\n",
      "Extracting unit no...\n",
      "Extracting page no, page content and unit no...\n",
      "Extracting unit no...\n",
      "Extracting page no, page content and unit no...\n",
      "Extracting unit no...\n",
      "Extracting page no, page content and unit no...\n",
      "Extracting unit no...\n",
      "Extracting page no, page content and unit no...\n",
      "Extracting unit no...\n",
      "Extracting page no, page content and unit no...\n",
      "Extracting unit no...\n",
      "Extracting page no, page content and unit no...\n",
      "Extracting unit no...\n",
      "Extracting page no, page content and unit no...\n",
      "Extracting unit no...\n",
      "Extracting page no, page content and unit no...\n",
      "Extracting unit no...\n",
      "Extracting page no, page content and unit no...\n",
      "Extracting unit no...\n",
      "Extracting page no, page content and unit no...\n",
      "Extracting unit no...\n",
      "Extracting page no, page content and unit no...\n",
      "Extracting unit no...\n",
      "Extracting page no, page content and unit no...\n",
      "Extracting unit no...\n",
      "Extracting page no, page content and unit no...\n",
      "Extracting unit no...\n",
      "Extracting page no, page content and unit no...\n",
      "Extracting unit no...\n",
      "Extracting page no, page content and unit no...\n",
      "Extracting unit no...\n",
      "Extracting page no, page content and unit no...\n",
      "Extracting unit no...\n",
      "Extracting page no, page content and unit no...\n",
      "Extracting unit no...\n",
      "Extracting page no, page content and unit no...\n",
      "Extracting unit no...\n",
      "Extracting page no, page content and unit no...\n",
      "Extracting unit no...\n",
      "Extracting page no, page content and unit no...\n",
      "Extracting unit no...\n",
      "Extracting page no, page content and unit no...\n",
      "Extracting unit no...\n",
      "Extracting page no, page content and unit no...\n",
      "Extracting unit no...\n",
      "Extracting page no, page content and unit no...\n",
      "Extracting unit no...\n",
      "Extracting page no, page content and unit no...\n",
      "Extracting unit no...\n",
      "Extracting page no, page content and unit no...\n",
      "Extracting unit no...\n",
      "Extracting page no, page content and unit no...\n",
      "Extracting unit no...\n",
      "Extracting page no, page content and unit no...\n",
      "Extracting unit no...\n",
      "Extracting page no, page content and unit no...\n",
      "Extracting unit no...\n",
      "Extracting page no, page content and unit no...\n",
      "Extracting unit no...\n",
      "Extracting page no, page content and unit no...\n",
      "Extracting unit no...\n",
      "Extracting page no, page content and unit no...\n",
      "Extracting unit no...\n",
      "Extracting page no, page content and unit no...\n",
      "Extracting unit no...\n",
      "Extracting page no, page content and unit no...\n",
      "Extracting unit no...\n",
      "Extracting page no, page content and unit no...\n",
      "Extracting unit no...\n",
      "Extracting page no, page content and unit no...\n",
      "Extracting unit no...\n",
      "Extracting page no, page content and unit no...\n",
      "Extracting unit no...\n",
      "Extracting page no, page content and unit no...\n",
      "Extracting unit no...\n",
      "Extracting page no, page content and unit no...\n",
      "Extracting unit no...\n",
      "Extracting page no, page content and unit no...\n",
      "Extracting unit no...\n",
      "Extracting page no, page content and unit no...\n",
      "Extracting unit no...\n",
      "Extracting page no, page content and unit no...\n",
      "Extracting unit no...\n",
      "Extracting page no, page content and unit no...\n",
      "Extracting unit no...\n",
      "Extracting page no, page content and unit no...\n",
      "Extracting unit no...\n",
      "Extracting page no, page content and unit no...\n",
      "Extracting unit no...\n",
      "Extracting page no, page content and unit no...\n",
      "Extracting unit no...\n",
      "Extracting page no, page content and unit no...\n",
      "Extracting unit no...\n",
      "Extracting page no, page content and unit no...\n",
      "Extracting unit no...\n",
      "Extracting page no, page content and unit no...\n",
      "Extracting unit no...\n",
      "Extracting page no, page content and unit no...\n",
      "Extracting unit no...\n",
      "Extracting page no, page content and unit no...\n",
      "Extracting unit no...\n",
      "Extracting page no, page content and unit no...\n",
      "Extracting unit no...\n",
      "Extracting page no, page content and unit no...\n",
      "Extracting unit no...\n",
      "Extracting page no, page content and unit no...\n",
      "Extracting unit no...\n",
      "Extracting page no, page content and unit no...\n",
      "Extracting unit no...\n",
      "Extracting page no, page content and unit no...\n",
      "Extracting unit no...\n",
      "Extracting page no, page content and unit no...\n",
      "Extracting unit no...\n",
      "Extracting page no, page content and unit no...\n",
      "Extracting unit no...\n",
      "Extracting page no, page content and unit no...\n",
      "Extracting unit no...\n",
      "Extracting page no, page content and unit no...\n",
      "Extracting unit no...\n",
      "Extracting page no, page content and unit no...\n",
      "Extracting unit no...\n",
      "Extracting page no, page content and unit no...\n",
      "Extracting unit no...\n",
      "Extracting page no, page content and unit no...\n",
      "Extracting unit no...\n",
      "Extracting page no, page content and unit no...\n",
      "Extracting unit no...\n",
      "Extracting page no, page content and unit no...\n",
      "Extracting unit no...\n",
      "Extracting page no, page content and unit no...\n",
      "Extracting unit no...\n",
      "Extracting page no, page content and unit no...\n",
      "Extracting unit no...\n",
      "Extracting page no, page content and unit no...\n",
      "Extracting unit no...\n",
      "Extracting page no, page content and unit no...\n",
      "Extracting unit no...\n",
      "Extracting page no, page content and unit no...\n",
      "Extracting unit no...\n",
      "Extracting page no, page content and unit no...\n",
      "Extracting unit no...\n",
      "Extracting page no, page content and unit no...\n",
      "Extracting unit no...\n",
      "Extracting page no, page content and unit no...\n",
      "Extracting unit no...\n",
      "Extracting page no, page content and unit no...\n",
      "Extracting unit no...\n",
      "Extracting page no, page content and unit no...\n",
      "Extracting unit no...\n",
      "Extracting page no, page content and unit no...\n",
      "Extracting unit no...\n",
      "Extracting page no, page content and unit no...\n",
      "Extracting unit no...\n",
      "Extracting page no, page content and unit no...\n",
      "Extracting unit no...\n",
      "Extracting page no, page content and unit no...\n",
      "Extracting unit no...\n",
      "Extracting page no, page content and unit no...\n",
      "Extracting unit no...\n",
      "Extracting page no, page content and unit no...\n",
      "Extracting unit no...\n",
      "Extracting page no, page content and unit no...\n",
      "Extracting unit no...\n",
      "Extracting page no, page content and unit no...\n",
      "Extracting unit no...\n",
      "Extracting page no, page content and unit no...\n",
      "Extracting unit no...\n",
      "Pages with no unit info: 148\n",
      "Book saved as: English 9.csv\n"
     ]
    }
   ],
   "source": [
    "process_book_pdf_and_save_df(r\"src\\books\\English 9.pdf\")"
   ]
  },
  {
   "cell_type": "markdown",
   "metadata": {},
   "source": [
    "### Magic Happens here\n",
    "Using the code"
   ]
  },
  {
   "cell_type": "code",
   "execution_count": 192,
   "metadata": {},
   "outputs": [],
   "source": [
    "doc_processor = DocumentProcessor()\n",
    "df = extract_details_from_book_pdf_path_as_df(r\"src\\books\\Physics9EM.pdf\")"
   ]
  },
  {
   "cell_type": "code",
   "execution_count": 142,
   "metadata": {},
   "outputs": [
    {
     "data": {
      "text/html": [
       "<div>\n",
       "<style scoped>\n",
       "    .dataframe tbody tr th:only-of-type {\n",
       "        vertical-align: middle;\n",
       "    }\n",
       "\n",
       "    .dataframe tbody tr th {\n",
       "        vertical-align: top;\n",
       "    }\n",
       "\n",
       "    .dataframe thead th {\n",
       "        text-align: right;\n",
       "    }\n",
       "</style>\n",
       "<table border=\"1\" class=\"dataframe\">\n",
       "  <thead>\n",
       "    <tr style=\"text-align: right;\">\n",
       "      <th></th>\n",
       "      <th>page_no</th>\n",
       "      <th>unit_no</th>\n",
       "      <th>content</th>\n",
       "    </tr>\n",
       "  </thead>\n",
       "  <tbody>\n",
       "    <tr>\n",
       "      <th>0</th>\n",
       "      <td>0</td>\n",
       "      <td>1</td>\n",
       "      <td>describe the crucial role of Physics in Scien...</td>\n",
       "    </tr>\n",
       "    <tr>\n",
       "      <th>1</th>\n",
       "      <td>1</td>\n",
       "      <td>1</td>\n",
       "      <td>2\\n Unit 1: Physical Quantities and Measuremen...</td>\n",
       "    </tr>\n",
       "    <tr>\n",
       "      <th>2</th>\n",
       "      <td>2</td>\n",
       "      <td>1</td>\n",
       "      <td>experimentations  is called  Science . The wor...</td>\n",
       "    </tr>\n",
       "    <tr>\n",
       "      <th>3</th>\n",
       "      <td>3</td>\n",
       "      <td>1</td>\n",
       "      <td>QUICK QUIZ\\n1.  Why do we study physics?\\n2.  ...</td>\n",
       "    </tr>\n",
       "    <tr>\n",
       "      <th>4</th>\n",
       "      <td>4</td>\n",
       "      <td>1</td>\n",
       "      <td>Volume:\\n31 cm\\n1 mL\\n1 cm 10 cm\\n= 1 dmBASE Q...</td>\n",
       "    </tr>\n",
       "  </tbody>\n",
       "</table>\n",
       "</div>"
      ],
      "text/plain": [
       "   page_no unit_no                                            content\n",
       "0        0       1   describe the crucial role of Physics in Scien...\n",
       "1        1       1  2\\n Unit 1: Physical Quantities and Measuremen...\n",
       "2        2       1  experimentations  is called  Science . The wor...\n",
       "3        3       1  QUICK QUIZ\\n1.  Why do we study physics?\\n2.  ...\n",
       "4        4       1  Volume:\\n31 cm\\n1 mL\\n1 cm 10 cm\\n= 1 dmBASE Q..."
      ]
     },
     "execution_count": 142,
     "metadata": {},
     "output_type": "execute_result"
    }
   ],
   "source": [
    "df.head()"
   ]
  },
  {
   "cell_type": "markdown",
   "metadata": {},
   "source": [
    "### Tokenizing and other processing"
   ]
  },
  {
   "cell_type": "code",
   "execution_count": 153,
   "metadata": {},
   "outputs": [
    {
     "name": "stdout",
     "output_type": "stream",
     "text": [
      "1674\n"
     ]
    }
   ],
   "source": [
    "content = df['content'][30]\n",
    "print(len(content))"
   ]
  },
  {
   "cell_type": "code",
   "execution_count": 152,
   "metadata": {},
   "outputs": [
    {
     "name": "stdout",
     "output_type": "stream",
     "text": [
      "530\n"
     ]
    }
   ],
   "source": [
    "import tiktoken\n",
    "encoder = tiktoken.get_encoding('gpt2')\n",
    "tokens = encoder.encode(content)\n",
    "print(len(tokens))"
   ]
  },
  {
   "cell_type": "markdown",
   "metadata": {},
   "source": [
    "### Generating Quiz"
   ]
  },
  {
   "cell_type": "code",
   "execution_count": 164,
   "metadata": {},
   "outputs": [],
   "source": [
    "QUIZ_GENERATOR_PROMPT = \"\"\"\n",
    "You will receive the contents of a particular chapter of a student's book. Your job is to create {no_questions} multiple choice question answers using those contents and provide them in the form of python code where:\n",
    "1- All are questions are inside a list.\n",
    "2- Each question is a dictionary of values.\n",
    "3- The keys of the question dictionary should be:\n",
    "question (representing question as str)\n",
    "choices (list of choices representing each choice as str)\n",
    "correct_choice (the index of correct choice i.e. the index of correct choice form the choices list.)\n",
    "\n",
    "Note: Strictly follow the rules and don't provide anything else than the asked. Only provide a clean list ready to process further.\n",
    "\n",
    "contents: {book_content}\n",
    "\"\"\""
   ]
  },
  {
   "cell_type": "code",
   "execution_count": 166,
   "metadata": {},
   "outputs": [],
   "source": [
    "prompt = get_quiz_generator_prompt()\n",
    "llm = load_ollama_model()"
   ]
  },
  {
   "cell_type": "code",
   "execution_count": 167,
   "metadata": {},
   "outputs": [
    {
     "name": "stdout",
     "output_type": "stream",
     "text": [
      "```python\n",
      "[\n",
      "    {\n",
      "        \"question\": \"What is an example of random motion in nature?\",\n",
      "        \"choices\": [\"a) The spinning motion of a top\", \"b) Brownian motion\", \"c) Circular motion\", \"d) Rotational motion\"],\n",
      "        \"correct_choice\": 1\n",
      "    },\n",
      "    {\n",
      "        \"question\": \"What type of motion does the Earth exhibit?\",\n",
      "        \"choices\": [\"a)  Random motion\", \"b)  Circular motion\", \"c) Rotatory motion\", \"d) Brownian motion\"],\n",
      "        \"correct_choice\": 2\n",
      "    },\n",
      "    {\n",
      "        \"question\": \"Which statement correctly describes rotatory motion?\",\n",
      "        \"choices\": [\"a) The motion of a body around an axis\", \"b)  The irregular motion of objects like insects and birds\", \"c) Random motion of particles in gases or liquids\", \"d) All the above\"],\n",
      "        \"correct_choice\": 0 \n",
      "    },\n",
      "    {\n",
      "        \"question\": \"What is the difference between circular motion and rotatory motion?\",\n",
      "        \"choices\": [\"a)  Circular motion describes an object moving around a fixed point, while rotatory motion describes an object moving around an axis\", \"b) Rotatory motion refers to spinning, while circular motion refers to orbiting\", \"c) There is no difference between the two\", \"d] Both b and c\"],\n",
      "        \"correct_choice\": 1\n",
      "    }\n",
      "]\n",
      "```\n"
     ]
    }
   ],
   "source": [
    "content = df['content'][30]\n",
    "response = llm.invoke(prompt.format(no_questions=4, book_content=content))\n",
    "print(response)"
   ]
  },
  {
   "cell_type": "code",
   "execution_count": 169,
   "metadata": {},
   "outputs": [
    {
     "name": "stdout",
     "output_type": "stream",
     "text": [
      "<class 'str'>\n"
     ]
    }
   ],
   "source": [
    "print(type(response))"
   ]
  },
  {
   "cell_type": "code",
   "execution_count": 185,
   "metadata": {},
   "outputs": [],
   "source": [
    "import ast\n",
    "\n",
    "def evaluate_generated_questions(response: str):\n",
    "    response = response.replace(\"python\", '')\n",
    "    response = response.replace(\"```\", '')\n",
    "    response = ast.literal_eval(response)\n",
    "    return response"
   ]
  },
  {
   "cell_type": "markdown",
   "metadata": {},
   "source": [
    "### Processing other books"
   ]
  },
  {
   "cell_type": "code",
   "execution_count": 204,
   "metadata": {},
   "outputs": [],
   "source": [
    "docs = load_single_pdf(r\"src\\books\\English 9.pdf\")"
   ]
  },
  {
   "cell_type": "code",
   "execution_count": 205,
   "metadata": {},
   "outputs": [
    {
     "data": {
      "text/plain": [
       "Document(metadata={'source': 'src\\\\books\\\\English 9.pdf', 'page': 0}, page_content='')"
      ]
     },
     "execution_count": 205,
     "metadata": {},
     "output_type": "execute_result"
    }
   ],
   "source": [
    "docs[0]"
   ]
  },
  {
   "cell_type": "code",
   "execution_count": null,
   "metadata": {},
   "outputs": [],
   "source": []
  }
 ],
 "metadata": {
  "kernelspec": {
   "display_name": "langchain",
   "language": "python",
   "name": "python3"
  },
  "language_info": {
   "codemirror_mode": {
    "name": "ipython",
    "version": 3
   },
   "file_extension": ".py",
   "mimetype": "text/x-python",
   "name": "python",
   "nbconvert_exporter": "python",
   "pygments_lexer": "ipython3",
   "version": "3.12.4"
  }
 },
 "nbformat": 4,
 "nbformat_minor": 2
}
