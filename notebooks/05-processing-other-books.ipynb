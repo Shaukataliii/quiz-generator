{
 "cells": [
  {
   "cell_type": "code",
   "execution_count": 3,
   "metadata": {},
   "outputs": [],
   "source": [
    "import os\n",
    "\n",
    "os.chdir(\"..\")"
   ]
  },
  {
   "cell_type": "code",
   "execution_count": 2,
   "metadata": {},
   "outputs": [],
   "source": [
    "from langchain_codebase.codebase import *\n",
    "import pandas as pd\n",
    "import pickle"
   ]
  },
  {
   "cell_type": "markdown",
   "metadata": {},
   "source": [
    "### Processing other books"
   ]
  },
  {
   "cell_type": "code",
   "execution_count": 204,
   "metadata": {},
   "outputs": [],
   "source": [
    "docs = load_single_pdf(r\"src\\books\\English 9.pdf\")"
   ]
  },
  {
   "cell_type": "code",
   "execution_count": 205,
   "metadata": {},
   "outputs": [
    {
     "data": {
      "text/plain": [
       "Document(metadata={'source': 'src\\\\books\\\\English 9.pdf', 'page': 0}, page_content='')"
      ]
     },
     "execution_count": 205,
     "metadata": {},
     "output_type": "execute_result"
    }
   ],
   "source": [
    "docs[0]"
   ]
  },
  {
   "cell_type": "code",
   "execution_count": 1,
   "metadata": {},
   "outputs": [],
   "source": [
    "import chardet\n",
    "from langchain_codebase.codebase import *"
   ]
  },
  {
   "cell_type": "code",
   "execution_count": 10,
   "metadata": {},
   "outputs": [],
   "source": [
    "def detect_encoding(file_path):\n",
    "    vals = None\n",
    "    if is_valid_path:\n",
    "        with open(file_path, 'rb') as file:\n",
    "            contents = file.read()\n",
    "            vals = chardet.detect(contents)\n",
    "            print(vals)\n",
    "    return vals"
   ]
  },
  {
   "cell_type": "code",
   "execution_count": 11,
   "metadata": {},
   "outputs": [
    {
     "name": "stdout",
     "output_type": "stream",
     "text": [
      "{'encoding': None, 'confidence': 0.0, 'language': None}\n"
     ]
    },
    {
     "data": {
      "text/plain": [
       "{'encoding': None, 'confidence': 0.0, 'language': None}"
      ]
     },
     "execution_count": 11,
     "metadata": {},
     "output_type": "execute_result"
    }
   ],
   "source": [
    "detect_encoding(r\"src\\books\\Computer Sc. 9.pdf\")"
   ]
  },
  {
   "cell_type": "code",
   "execution_count": 1,
   "metadata": {},
   "outputs": [],
   "source": [
    "import pytesseract\n",
    "from pdf2image import convert_from_path\n",
    "\n",
    "# Set the Tesseract executable path (for Windows)\n",
    "pytesseract.pytesseract.tesseract_cmd = r'C:\\Program Files\\Tesseract-OCR\\tesseract.exe'\n",
    "\n",
    "def extract_text_from_images(pdf_path, poppler_path=None):\n",
    "    # Convert PDF pages to images (ensure poppler_path is set if necessary)\n",
    "    pages = convert_from_path(pdf_path, poppler_path=poppler_path)\n",
    "    \n",
    "    text = \"\"\n",
    "    for page in pages:\n",
    "        # Use Tesseract to extract text from each image\n",
    "        text += pytesseract.image_to_string(page)\n",
    "    \n",
    "    return text\n",
    "\n",
    "# Example usage:\n",
    "# Provide the Poppler bin path for Windows if not in the system PATH\n",
    "poppler_path = r\"C:\\Program Files\\poppler-24.02.0\\Library\\bin\"  # Update with your actual Poppler path\n",
    "\n",
    "text = extract_text_from_images(r\"src\\books\\English 9.pdf\", poppler_path=poppler_path)\n",
    "# print(text)\n"
   ]
  },
  {
   "cell_type": "code",
   "execution_count": 2,
   "metadata": {},
   "outputs": [],
   "source": [
    "with open(\"English 9.pdf.txt\", 'w') as file:\n",
    "    file.write(text)"
   ]
  },
  {
   "cell_type": "code",
   "execution_count": 14,
   "metadata": {},
   "outputs": [],
   "source": [
    "from src.module import BookProcessor, OCRUser, DocumentProcessor\n",
    "\n",
    "pdf_filepath = r\"src\\books\\English 9.pdf\"\n",
    "BOOK_PROCESSOR = BookProcessor()\n",
    "DOC_PROCESSOR = DocumentProcessor()\n",
    "OCR_USER = OCRUser()\n",
    "\n",
    "OCR_USER.book_pdf_path = pdf_filepath\n",
    "OCR_USER.book_pdf_name = \"English 9.pdf\"\n",
    "images = OCR_USER.convert_pdf_path_to_images()"
   ]
  },
  {
   "cell_type": "code",
   "execution_count": 15,
   "metadata": {},
   "outputs": [],
   "source": [
    "docs = OCR_USER.convert_pdf_images_to_docs(images)"
   ]
  },
  {
   "cell_type": "code",
   "execution_count": 17,
   "metadata": {},
   "outputs": [
    {
     "data": {
      "text/plain": [
       "Document(metadata={'page': 21, 'source': 'English 9.pdf'}, page_content='Unit 2: Patriotism ( 15)\\n\\ndevotion loyalty\\ncommendable admirable\\nsupreme highest in status\\nvalue worth\\n\\nnative from one’s motherland\\n\\nOral Activity:\\n\\nForm five groups. Each group takes the responsibility to read and note details about the life of\\nthose soldiers who embraced martyrdom while fighting for their country. Visit the library or\\n\\nuse the internet to research for the required details.\\nIn the class, discuss your findings with your classfellows.\\n\\nComprehension N\\n\\nA. Answer the following questions.\\n\\n1. Howwill you define patriotism?\\n\\n2. What are the qualities of a patriot?\\n\\n3. Asa citizen of Pakistan what are your duties towards your country?\\n4. What makes us stay alert in the wake of foreign invasion?\\n\\n5. Elaborate the given quote of Quaid-e-Azam Muhammad Ali Jinnah.\\n\\n“We must develop a sense of patriotism which\\ngalvanizes us all into one united and strong nation.”\\n\\n©) For the Teacher:\\n\\ne — Ask students to discuss in detail the life of great soldiers.\\n\\n')"
      ]
     },
     "execution_count": 17,
     "metadata": {},
     "output_type": "execute_result"
    }
   ],
   "source": [
    "docs[20]"
   ]
  },
  {
   "cell_type": "code",
   "execution_count": 18,
   "metadata": {},
   "outputs": [
    {
     "name": "stdout",
     "output_type": "stream",
     "text": [
      "Unit no:  is not valid.\n",
      "Unit no: se rs 5 is not valid.\n",
      "Unit no:  is not valid.\n",
      "Unit no: es 5 is not valid.\n",
      "Unit no:  is not valid.\n",
      "Unit no:  is not valid.\n",
      "Unit no:  is not valid.\n",
      "Unit no:  is not valid.\n",
      "Unit no:  is not valid.\n",
      "Unit no:  is not valid.\n",
      "Unit no:  is not valid.\n",
      "Unit no: 1-4 (47) is not valid.\n",
      "Unit no: 1-4 is not valid.\n",
      "Unit no:  is not valid.\n",
      "Unit no:  is not valid.\n",
      "Unit no:  is not valid.\n",
      "Unit no:  is not valid.\n",
      "Unit no:  is not valid.\n",
      "Unit no: 5-8 is not valid.\n",
      "Unit no: 5-8 is not valid.\n",
      "Unit no: 5-8 (91) is not valid.\n",
      "Unit no: 5-8 is not valid.\n",
      "Unit no:  is not valid.\n",
      "Unit no:  is not valid.\n",
      "Unit no:  is not valid.\n",
      "Unit no:  is not valid.\n",
      "Unit no: 9-12 is not valid.\n",
      "Unit no: 9-12 (33) is not valid.\n",
      "Unit no: 9-12 is not valid.\n",
      "Unit no: 9-12 () is not valid.\n",
      "Unit no:  is not valid.\n",
      "Unit no:  is not valid.\n",
      "\n",
      "Total pages: 148\n",
      "Pages with no unit info: 32\n",
      "Pages with no content: 0\n"
     ]
    }
   ],
   "source": [
    "df = DOC_PROCESSOR.extract_details_from_docs_as_df(docs, \"English\", \"9\")"
   ]
  },
  {
   "cell_type": "code",
   "execution_count": 25,
   "metadata": {},
   "outputs": [
    {
     "data": {
      "text/plain": [
       "'se rs 5'"
      ]
     },
     "execution_count": 25,
     "metadata": {},
     "output_type": "execute_result"
    }
   ],
   "source": [
    "df['unit_no'][1]"
   ]
  },
  {
   "cell_type": "code",
   "execution_count": 28,
   "metadata": {},
   "outputs": [
    {
     "name": "stdout",
     "output_type": "stream",
     "text": [
      "Book saved as: books_df_csvs\\English 9.csv\n"
     ]
    }
   ],
   "source": [
    "BOOK_PROCESSOR.book_pdffile_name = \"English 9\"\n",
    "BOOK_PROCESSOR.save_book_df(df)"
   ]
  },
  {
   "cell_type": "markdown",
   "metadata": {},
   "source": [
    "### Converting books to df using module"
   ]
  },
  {
   "cell_type": "code",
   "execution_count": 7,
   "metadata": {},
   "outputs": [
    {
     "name": "stdout",
     "output_type": "stream",
     "text": [
      "Processing: Computer 10.pdf\n",
      "Using PDFProcessor..\n"
     ]
    }
   ],
   "source": [
    "from src.module import BookProcessor\n",
    "\n",
    "remaining_books_dir = \"remaining-books\"\n",
    "books_processor = BookProcessor()\n",
    "\n",
    "for book_name in os.listdir(remaining_books_dir):\n",
    "\n",
    "    if not book_name.endswith(\"pdf\"):\n",
    "        continue\n",
    "\n",
    "    print(f\"Processing: {book_name}\")\n",
    "    book_path = os.path.join(remaining_books_dir, book_name)\n",
    "\n",
    "    print(\"Using PDFProcessor..\")\n",
    "    books_processor.process_book_pdf_and_save_df(book_path, True)\n",
    "    # try:\n",
    "    #     print(\"Using PDFProcessor..\")\n",
    "    #     books_processor.process_book_pdf_and_save_df(book_path, True)\n",
    "    # except:\n",
    "    #     print(\"Using OCR..\")\n",
    "    #     books_processor.use_ocr_to_process_book_pdf_and_save_df(book_path)\n",
    "\n",
    "    print(f\"Book: {book_name} converted to df.\")"
   ]
  },
  {
   "cell_type": "code",
   "execution_count": null,
   "metadata": {},
   "outputs": [],
   "source": []
  }
 ],
 "metadata": {
  "kernelspec": {
   "display_name": "langchain",
   "language": "python",
   "name": "python3"
  },
  "language_info": {
   "codemirror_mode": {
    "name": "ipython",
    "version": 3
   },
   "file_extension": ".py",
   "mimetype": "text/x-python",
   "name": "python",
   "nbconvert_exporter": "python",
   "pygments_lexer": "ipython3",
   "version": "3.12.4"
  }
 },
 "nbformat": 4,
 "nbformat_minor": 2
}
