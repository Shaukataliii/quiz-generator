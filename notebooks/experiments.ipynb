{
 "cells": [
  {
   "cell_type": "code",
   "execution_count": 1,
   "metadata": {},
   "outputs": [
    {
     "data": {
      "text/plain": [
       "'d:\\\\Shaukat ali khan\\\\programming\\\\AI-Projects\\\\langchain-projects\\\\quiz-generator'"
      ]
     },
     "execution_count": 1,
     "metadata": {},
     "output_type": "execute_result"
    }
   ],
   "source": [
    "import os\n",
    "\n",
    "os.chdir(\"..\")\n",
    "os.getcwd()"
   ]
  },
  {
   "cell_type": "code",
   "execution_count": 14,
   "metadata": {},
   "outputs": [],
   "source": [
    "from add_df_to_vdb import add_df_to_vdb\n",
    "from process_single_book_to_csv import process_pdf_to_df"
   ]
  },
  {
   "cell_type": "code",
   "execution_count": null,
   "metadata": {},
   "outputs": [],
   "source": [
    "remaining_dfs_dir = \"\"\n",
    "remaining_books_dir = \"remaining-books\"\n",
    "\n",
    "for df_filename in os.listdir(remaining_books_dir):\n",
    "    df_filepath = os.path.join(remaining_dfs_dir, df_filename)\n",
    "\n",
    "    process_pdf_to_df()\n",
    "    # add_df_to_vdb(df_filepath)"
   ]
  }
 ],
 "metadata": {
  "kernelspec": {
   "display_name": "langchain",
   "language": "python",
   "name": "python3"
  },
  "language_info": {
   "codemirror_mode": {
    "name": "ipython",
    "version": 3
   },
   "file_extension": ".py",
   "mimetype": "text/x-python",
   "name": "python",
   "nbconvert_exporter": "python",
   "pygments_lexer": "ipython3",
   "version": "3.12.4"
  }
 },
 "nbformat": 4,
 "nbformat_minor": 2
}
