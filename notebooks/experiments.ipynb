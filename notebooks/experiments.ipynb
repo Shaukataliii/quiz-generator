{
 "cells": [
  {
   "cell_type": "code",
   "execution_count": 1,
   "metadata": {},
   "outputs": [
    {
     "data": {
      "text/plain": [
       "'d:\\\\Shaukat ali khan\\\\programming\\\\AI-Projects\\\\langchain-projects\\\\quiz-generator'"
      ]
     },
     "execution_count": 1,
     "metadata": {},
     "output_type": "execute_result"
    }
   ],
   "source": [
    "import os\n",
    "\n",
    "os.chdir(\"..\")\n",
    "os.getcwd()"
   ]
  },
  {
   "cell_type": "markdown",
   "metadata": {},
   "source": [
    "#### Developing vector store for class 9 book physics\n",
    "To test the topic modeling technique."
   ]
  },
  {
   "cell_type": "code",
   "execution_count": 2,
   "metadata": {},
   "outputs": [],
   "source": [
    "from langchain_codebase.codebase import *\n",
    "from notebooks.modular_code import *\n",
    "from langchain_core.documents import Document\n",
    "from dotenv import load_dotenv"
   ]
  },
  {
   "cell_type": "code",
   "execution_count": 3,
   "metadata": {},
   "outputs": [
    {
     "data": {
      "text/plain": [
       "True"
      ]
     },
     "execution_count": 3,
     "metadata": {},
     "output_type": "execute_result"
    }
   ],
   "source": [
    "load_dotenv()"
   ]
  },
  {
   "cell_type": "code",
   "execution_count": 4,
   "metadata": {},
   "outputs": [],
   "source": [
    "tokenizer = Tokenizer()\n",
    "quiz_generator = QuizGenerator()"
   ]
  },
  {
   "cell_type": "code",
   "execution_count": 5,
   "metadata": {},
   "outputs": [],
   "source": [
    "prompt = quiz_generator.get_quiz_generator_prompt()\n",
    "llm = QuizGenerator.load_ollama_model()"
   ]
  },
  {
   "cell_type": "code",
   "execution_count": 6,
   "metadata": {},
   "outputs": [
    {
     "name": "stdout",
     "output_type": "stream",
     "text": [
      "Loading embeddings and vectorstore..\n"
     ]
    }
   ],
   "source": [
    "vectorstore = load_vectorstore(\"VDB-ALL-BOOKS\")"
   ]
  },
  {
   "cell_type": "code",
   "execution_count": 9,
   "metadata": {},
   "outputs": [
    {
     "data": {
      "text/plain": [
       "[Document(metadata={'class': 9, 'page': 81, 'subject': 'Physics', 'unit_no': 3}, page_content='Unit 3: Dynamics Physics IX 82\\n(c) decrea ses when moving with \\nhigh velocity\\n       (d) none of the above.\\nvi. Two bodies of masses m  and m  1 2\\nattached to the ends of an \\ninextensible string passing over a \\nfrictionless pulling such that both \\nmove vertically. The acceleration of \\nthe bodies is:\\nvii. Which of the following is the unit of \\nmomentum?\\n-2(a) Nm    (b) kgms\\n-1(c) Ns    (d) Ns\\nviii. When horse pulls a cart, the action is \\non the:\\n(a) cart                (b) Earth\\n© horse               (d) Earth and cart\\nix. Which of the following material \\nlowers friction when pushed \\nbetween metal plates?\\n(a) water       (b) fine marble\\n                                 powder\\n(c) air       (d) oil\\n3.2 Define the following terms:\\n(i) Inertia      (ii) Momentum\\n(iii) Force     (iv) Force of friction \\n(v) Centripetal force\\n3.3 What is the difference between:\\n      (i)  Mass and weight\\n     (ii) Action and reaction\\n     (iii) Sliding friction and rolling\\n            friction3.4 What is the law of Inertia?\\n3.5 Why is it dangerous to travel on \\nthe roof of a bus?\\n3.6 Why does a passenger move \\noutward when a bus takes a turn?\\n3.7 How can you relate a force with \\nthe change of momentum of a \\nbody?\\n3.8 What will be the tension in a rope \\nthat is pulled from its ends by two \\nopposite forces 100 N each?\\n3.9 Action and reaction are always \\nequal and opposite. Then how \\ndoes a body move?\\n3.10 A horse pulls the cart. If the action \\nand reaction are equal and \\nopposite then how does the cart \\nmove?\\n3.11 What is the law of conservation \\nof momentum?\\n3.12 Why is the law of conservation of \\nmomentum important?\\n3.13 When a gun is fired, it recoils. \\nWhy?\\n3.14 Describe two situations in which \\nforce of friction is needed.\\n3.15 How does oiling the moving \\nparts of a machine lowers \\nfriction?\\n3.16 Describe ways to reduce friction.\\n3.17 Why rolling friction is less than \\nsliding friction?'),\n",
       " Document(metadata={'class': 9, 'page': 54, 'subject': 'Physics', 'unit_no': 3}, page_content=\"Unit 3\\nDynamics\\nSTUDENT’S LEARNING OUTCOMES\\nAfter studying this unit, the students will be able to:\\n define momentum, force, inertia, friction and \\ncentripetal force.\\nsolve problems using the equation\\nForce = change in momentum / change in time.\\nexplain the concept of force by practical \\nexamples of daily life.\\nstate Newton's laws of motion.\\ndistinguish between mass and weight and solve \\nproblems using F= ma, and w = mg.\\ncalculate tension and acceleration in a string \\nduring motion of bodies connected by the string \\nand passing over frictionless pulley using \\nsecond law of motion.\\nstate the law of conversation of momentum.\\nuse the principle of conservation of momentum in \\nthe collision of two objects.\\ndetermine the velocity after collision of two \\nobjects using the law of conservation of \\nmomentum.\\nexplain the effect of friction on the motion of a \\nvehicle in the context of tyre surface, road \\nconditions including skidding, braking force.\\ndemonstrate that rolling friction is much lesser \\nthan sliding friction.\\nlist various methods to reduce friction.Conceptual\"),\n",
       " Document(metadata={'class': 9, 'page': 67, 'subject': 'Physics', 'unit_no': 3}, page_content=\"final momentum of the body related to initial and final \\nvelocities respectively, then\\n Thus the rate of change in momentum is given \\nby:\\n since                   is the rate of change of velocity\\nequal to the acceleration a produced by the force F.\\nAccording to Newton's second law of motion,\\n Equation 3.14 also defines force and states \\nNewton's second law of motion as\\n When a force acts on a body, it produces an \\nacceleration in the body and will be equal to the \\nrate of change of momentum of the body.\\nSI unit of momentum defined by equation 3.14 is \\n\\uf02d1newton-second (Ns) which is the same as kgms .\\nEXAMPLE 3.6\\nA body of mass 5 kg is moving with a velocity of \\n-110ms . Find the force required to stop it in 2 seconds.\\nSOLUTIONand\\nChange in    =  final                  initial\\nmomentum       momentum       momentum\\nDuring an accident, crumple zones \\ncollapse. This increases the impact time \\nby providing extra time for crumpling. The \\nimpact of force is highly reduced and \\nsaves the passengers from severe \\ninjuries.In an accident at high speed, the impact \\nforce is very large due to the extremely \\nshort stopping time. For safety purposes, \\nvehicles have rigid cages for passengers \\nwith crumple zones at their front and rear \\nends.\\nUSEFUL INFORMATIONUSEFUL INFORMATION\\nAir enclosed in the cavities of these \\nmaterials makes them flexible and soft. \\nDuring any mishap, they increase the \\nimpact time on fragile objects. An \\nincrease in impact time lowers the rate of \\nchange of momentum and hence \\nlessens the impact of force. This lowers \\nthe possible damage due to an accident.Fragile objects such as glass wares etc. \\nare packed with suitable materials such \\nas styrofoam rings, balls, polythene \\nsheets with air sacks etc.Unit 3: Dynamics Physics IX 68\"),\n",
       " Document(metadata={'class': 9, 'page': 66, 'subject': 'Physics', 'unit_no': 3}, page_content='Unit 3: Dynamics Physics IX 67\\nAdding  Eqs. 3.10 and 3.11, we get acceleration  a as\\nPutting the value  of a in equations  3.11 to get tension  T as\\nEXAMPLE 3.5\\nTwo masses 4 kg and 6 kg are attached  to the ends  \\nof an inextensible  string which  passes  over a frictionless  \\npulley  such that mass 6 kg is moving  over a frictionless  \\nhorizontal  surface and the mass 4 kg is moving  vertically  \\ndownwards . Find the acceleration  in the system and the \\ntension  in the string.\\nSOLUTION\\n\\uf02d2Thus the acceleration  in the system is 4 ms  and \\ntension  in the string is 24N .\\nFORCE AND THE MOMENTUM\\nConsider  a body  of mass m moving  with initial  \\nvelocity  v. Let a force F acts on the body  which       i\\nproduces  an acceleration  a in it. This changes  the    \\nvelocity  of the body . Let its final velocity  after time  \\nbecomes  v. If P and P be the initial  momentum  andf i f'),\n",
       " Document(metadata={'class': 9, 'page': 80, 'subject': 'Physics', 'unit_no': 3}, page_content=\"Unit 3: Dynamics Physics IX 81\\nmoves on a smooth horizontal surface \\nare given by:\\n\\uf0d8Law of conservation of momentum states \\nthat the momentum of an isolated system \\nof two or more than two interacting bodies \\nremains constant.\\n\\uf0d8A force between the sliding objects which \\nopposes the relative motion between \\nthem is called friction.\\n\\uf0d8Rolling friction is the force of friction \\nbetween a rolling body and a surface over \\nwhich it rolls. Rolling friction is lesser than \\nthe sliding friction.\\n\\uf0d8The friction causes loss of energy in \\nmachines and much work has to be done \\nin overcoming it. Moreover, friction leads \\nto much wear and tear on the moving parts of the machine. The friction can be \\nreduced by:\\n(i) Smoothing    the    sliding\\nsurfaces in contact.\\n(ii) Using lubricants between\\nsliding surfaces.\\n(iii) Using   ball   bearings   or\\nroller bearings.\\n\\uf0d8The motion of a body moving along a \\ncircular path is called circular motion.\\n\\uf0d8The force which keeps the body to move \\nin a circular path is called the centripetal \\nforce and is given.\\n\\uf0d8According to Newton's third law of \\nmotion, there exists a reaction to the \\ncentripetal force. Centripetal reaction that \\npulls the string outward is sometimes \\ncalled the centrifugal force.\\nQUESTIONS\\n3.1 Encircle the correct answer from \\nthe given choices:\\ni. Newton's first law of motion is valid \\nonly in the absence of:\\n(a) force      (b) net force\\n(c) friction    (d) momentum\\nii. Inertia depends upon\\n(a) force     (b) net force\\n(c) mass     (d) velocity\\niii. A boy jumps out of a moving bus. \\nThere is a danger for him to fall:\\n(a)  towards the moving bus(b) away from the bus\\n(c) in the direction of motion\\n(d) opposite to the direction of \\nmotion\\niv. A string is stretched by two equal\\nand opposite forces 10 N each. The \\ntension in the string is\\n(a) zero      (b) 5 N\\n(c) 10 N      (d) 20 N\\nv. The mass of a body:\\n(a) decreases when accelerated\\n(b) increases when accelerated\")]"
      ]
     },
     "execution_count": 9,
     "metadata": {},
     "output_type": "execute_result"
    }
   ],
   "source": [
    "book_content = QuizGenerator.fetch_relevant_docs_from_vectorstore(vectorstore, \"momentum\", 9, \"Physics\", 3, 5)\n",
    "book_content"
   ]
  },
  {
   "cell_type": "code",
   "execution_count": 10,
   "metadata": {},
   "outputs": [],
   "source": [
    "# response = llm.invoke(prompt.format(difficulty_level=\"medium\", no_questions=5, book_content=book_content))\n",
    "# print(response)\n",
    "\n",
    "\n"
   ]
  },
  {
   "cell_type": "code",
   "execution_count": null,
   "metadata": {},
   "outputs": [],
   "source": []
  }
 ],
 "metadata": {
  "kernelspec": {
   "display_name": "langchain",
   "language": "python",
   "name": "python3"
  },
  "language_info": {
   "codemirror_mode": {
    "name": "ipython",
    "version": 3
   },
   "file_extension": ".py",
   "mimetype": "text/x-python",
   "name": "python",
   "nbconvert_exporter": "python",
   "pygments_lexer": "ipython3",
   "version": "3.12.4"
  }
 },
 "nbformat": 4,
 "nbformat_minor": 2
}
