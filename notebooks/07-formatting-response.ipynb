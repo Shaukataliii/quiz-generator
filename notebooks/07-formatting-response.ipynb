{
 "cells": [
  {
   "cell_type": "code",
   "execution_count": 1,
   "metadata": {},
   "outputs": [
    {
     "data": {
      "text/plain": [
       "'d:\\\\Shaukat ali khan\\\\programming\\\\AI-Projects\\\\langchain-projects\\\\quiz-generator'"
      ]
     },
     "execution_count": 1,
     "metadata": {},
     "output_type": "execute_result"
    }
   ],
   "source": [
    "import os\n",
    "\n",
    "os.chdir(\"..\")\n",
    "os.getcwd()"
   ]
  },
  {
   "cell_type": "code",
   "execution_count": 2,
   "metadata": {},
   "outputs": [],
   "source": [
    "from notebooks.modular_code import *"
   ]
  },
  {
   "cell_type": "code",
   "execution_count": 3,
   "metadata": {},
   "outputs": [],
   "source": [
    "response = \"\"\"\n",
    "```python\n",
    "[\n",
    "    {\n",
    "        \"question\": \"What is the relationship between force, inertia, and momentum?\",\n",
    "        \"choices\": [\n",
    "            \"Force causes a body to change its direction of motion.\",\n",
    "            \"Inertia opposes any changes in a body's state of rest or uniform motion.\",\n",
    "            \"Force and inertia are independent concepts.\",\n",
    "            \"Momentum is directly proportional to the force applied.\"\n",
    "        ],\n",
    "        \"correct_choice\": 2\n",
    "    },\n",
    "    {\n",
    "        \"question\": \"What does Newton's law of motion say about an object's motion?\",\n",
    "        \"choices\": [\n",
    "            \"An object at rest will stay at rest unless a force acts upon it.\",\n",
    "            \"An object in motion will always continue in that motion unless acted upon by a force.\",\n",
    "            \"The net force acting on an object is equal to its mass multiplied by its acceleration.\",\n",
    "            \"Both (a) and (c)\"\n",
    "        ],\n",
    "        \"correct_choice\": 3\n",
    "    },\n",
    "    {\n",
    "        \"question\": \"What happens when you push down on a balloon?\",\n",
    "        \"choices\": [\n",
    "            \"The balloon expands due to the pressure of the air trapped inside.\",\n",
    "            \"The balloon shrinks because of the force of your hand pushing it.\",\n",
    "            \"The balloon stays the same size as there is no external force acting on it.\",\n",
    "            \"The balloon changes shape based on its inertia.\"\n",
    "        ],\n",
    "        \"correct_choice\": 1\n",
    "    },\n",
    "    {\n",
    "        \"question\": \"What is inertia and how does it relate to an object's movement?\",\n",
    "        \"choices\": [\n",
    "            \"Inertia is the tendency of an object to resist a change in its velocity.\",\n",
    "            \"Inertia is the force that keeps an object at rest.\",\n",
    "            \"Inertia is the ability to move without external help.\",\n",
    "            \"Inertia is the resistance of an object to acceleration.\"\n",
    "        ],\n",
    "        \"correct_choice\": 1\n",
    "    },\n",
    "    {\n",
    "        \"question\": \"Why does a coin remain stationary when you pull the paper strip away?\",\n",
    "        \"choices\": [\n",
    "            \"The coin's inertia prevents it from moving.\",\n",
    "            \"The paper strip is heavier than the coin, so it moves first and then the coin follows.\", \n",
    "            \"The string tension stops the coin from moving\",\n",
    "            \"The force of the hand pulling on the paper strip makes the coin move.\"\n",
    "        ],\n",
    "        \"correct_choice\": 1\n",
    "    }\n",
    "]\n",
    "```\n",
    "\"\"\""
   ]
  },
  {
   "cell_type": "code",
   "execution_count": 4,
   "metadata": {},
   "outputs": [
    {
     "data": {
      "text/plain": [
       "[{'question': 'What is the relationship between force, inertia, and momentum?',\n",
       "  'choices': ['Force causes a body to change its direction of motion.',\n",
       "   \"Inertia opposes any changes in a body's state of rest or uniform motion.\",\n",
       "   'Force and inertia are independent concepts.',\n",
       "   'Momentum is directly proportional to the force applied.'],\n",
       "  'correct_choice': 2},\n",
       " {'question': \"What does Newton's law of motion say about an object's motion?\",\n",
       "  'choices': ['An object at rest will stay at rest unless a force acts upon it.',\n",
       "   'An object in motion will always continue in that motion unless acted upon by a force.',\n",
       "   'The net force acting on an object is equal to its mass multiplied by its acceleration.',\n",
       "   'Both (a) and (c)'],\n",
       "  'correct_choice': 3},\n",
       " {'question': 'What happens when you push down on a balloon?',\n",
       "  'choices': ['The balloon expands due to the pressure of the air trapped inside.',\n",
       "   'The balloon shrinks because of the force of your hand pushing it.',\n",
       "   'The balloon stays the same size as there is no external force acting on it.',\n",
       "   'The balloon changes shape based on its inertia.'],\n",
       "  'correct_choice': 1},\n",
       " {'question': \"What is inertia and how does it relate to an object's movement?\",\n",
       "  'choices': ['Inertia is the tendency of an object to resist a change in its velocity.',\n",
       "   'Inertia is the force that keeps an object at rest.',\n",
       "   'Inertia is the ability to move without external help.',\n",
       "   'Inertia is the resistance of an object to acceleration.'],\n",
       "  'correct_choice': 1},\n",
       " {'question': 'Why does a coin remain stationary when you pull the paper strip away?',\n",
       "  'choices': [\"The coin's inertia prevents it from moving.\",\n",
       "   'The paper strip is heavier than the coin, so it moves first and then the coin follows.',\n",
       "   'The string tension stops the coin from moving',\n",
       "   'The force of the hand pulling on the paper strip makes the coin move.'],\n",
       "  'correct_choice': 1}]"
      ]
     },
     "execution_count": 4,
     "metadata": {},
     "output_type": "execute_result"
    }
   ],
   "source": [
    "response = QuizGenerator.evaluate_generated_questions(response)\n",
    "response\n"
   ]
  },
  {
   "cell_type": "code",
   "execution_count": 5,
   "metadata": {},
   "outputs": [
    {
     "data": {
      "text/plain": [
       "{'question': 'What is the relationship between force, inertia, and momentum?',\n",
       " 'choices': ['Force causes a body to change its direction of motion.',\n",
       "  \"Inertia opposes any changes in a body's state of rest or uniform motion.\",\n",
       "  'Force and inertia are independent concepts.',\n",
       "  'Momentum is directly proportional to the force applied.'],\n",
       " 'correct_choice': 2}"
      ]
     },
     "execution_count": 5,
     "metadata": {},
     "output_type": "execute_result"
    }
   ],
   "source": [
    "response[0]"
   ]
  },
  {
   "cell_type": "code",
   "execution_count": null,
   "metadata": {},
   "outputs": [],
   "source": []
  }
 ],
 "metadata": {
  "kernelspec": {
   "display_name": "langchain",
   "language": "python",
   "name": "python3"
  },
  "language_info": {
   "codemirror_mode": {
    "name": "ipython",
    "version": 3
   },
   "file_extension": ".py",
   "mimetype": "text/x-python",
   "name": "python",
   "nbconvert_exporter": "python",
   "pygments_lexer": "ipython3",
   "version": "3.12.4"
  }
 },
 "nbformat": 4,
 "nbformat_minor": 2
}
