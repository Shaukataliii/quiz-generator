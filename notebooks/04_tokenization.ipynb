{
 "cells": [
  {
   "cell_type": "code",
   "execution_count": null,
   "metadata": {},
   "outputs": [],
   "source": [
    "import os\n",
    "import pandas as pd\n",
    "\n",
    "os.chdir(\"..\")\n",
    "os.getcwd()"
   ]
  },
  {
   "cell_type": "markdown",
   "metadata": {},
   "source": [
    "### Tokenizing and other processing"
   ]
  },
  {
   "cell_type": "code",
   "execution_count": null,
   "metadata": {},
   "outputs": [
    {
     "name": "stdout",
     "output_type": "stream",
     "text": [
      "1674\n"
     ]
    }
   ],
   "source": [
    "df = pd.read_csv(\"dataframe.csv\")\n",
    "content = df['content'][30]\n",
    "print(len(content))"
   ]
  },
  {
   "cell_type": "code",
   "execution_count": null,
   "metadata": {},
   "outputs": [
    {
     "name": "stdout",
     "output_type": "stream",
     "text": [
      "530\n"
     ]
    }
   ],
   "source": [
    "import tiktoken\n",
    "\n",
    "def get_content_token_count(content: str):\n",
    "    content_tokens = tokenize_content(content)\n",
    "    return len(content_tokens)\n",
    "\n",
    "def tokenize_content(content: str):\n",
    "    encoder = tiktoken.get_encoding('gpt2')\n",
    "    tokens = encoder.encode(content)\n",
    "    return tokens"
   ]
  }
 ],
 "metadata": {
  "language_info": {
   "name": "python"
  }
 },
 "nbformat": 4,
 "nbformat_minor": 2
}
