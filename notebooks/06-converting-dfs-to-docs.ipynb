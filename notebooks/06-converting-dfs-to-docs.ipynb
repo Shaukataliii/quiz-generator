{
 "cells": [
  {
   "cell_type": "code",
   "execution_count": 1,
   "metadata": {},
   "outputs": [
    {
     "data": {
      "text/plain": [
       "'d:\\\\Shaukat ali khan\\\\programming\\\\AI-Projects\\\\langchain-projects\\\\quiz-generator'"
      ]
     },
     "execution_count": 1,
     "metadata": {},
     "output_type": "execute_result"
    }
   ],
   "source": [
    "import os\n",
    "\n",
    "os.chdir(\"..\")\n",
    "os.getcwd()"
   ]
  },
  {
   "cell_type": "markdown",
   "metadata": {},
   "source": [
    "#### Developing vector store for class 9 book physics\n",
    "To test the topic modeling technique."
   ]
  },
  {
   "cell_type": "code",
   "execution_count": 2,
   "metadata": {},
   "outputs": [],
   "source": [
    "from langchain_codebase.codebase import *\n",
    "from notebooks.modular_code import QuizGenerator\n",
    "from langchain_core.documents import Document\n",
    "from dotenv import load_dotenv"
   ]
  },
  {
   "cell_type": "code",
   "execution_count": 3,
   "metadata": {},
   "outputs": [
    {
     "data": {
      "text/plain": [
       "True"
      ]
     },
     "execution_count": 3,
     "metadata": {},
     "output_type": "execute_result"
    }
   ],
   "source": [
    "load_dotenv()"
   ]
  },
  {
   "cell_type": "code",
   "execution_count": 4,
   "metadata": {},
   "outputs": [],
   "source": [
    "BOOKS_VDB_PATH = \"VDB-ALL-BOOKS\""
   ]
  },
  {
   "cell_type": "code",
   "execution_count": 5,
   "metadata": {},
   "outputs": [],
   "source": [
    "import pandas as pd\n",
    "\n",
    "def convert_df_to_docs_with_proper_metadata(df: pd.DataFrame):\n",
    "    \"\"\"df should have the following keys:\n",
    "    1. class\n",
    "    2. subject\n",
    "    3. page_no\n",
    "    4. unit_no\n",
    "    5. content\n",
    "    Returns docs having content as page_content and other details in the metadata.\n",
    "    \"\"\"\n",
    "    docs = []\n",
    "\n",
    "    for _, row in df.iterrows():\n",
    "        class_no = convert_df_val_to_int(row['class'])\n",
    "        page_no = convert_df_val_to_int(row['page_no'])\n",
    "        subject = row['subject']\n",
    "        unit_no = convert_df_val_to_int(row['unit_no'])\n",
    "        content = row['content']\n",
    "\n",
    "        doc = Document(page_content=content)\n",
    "        doc.metadata = {'page': page_no, 'class': class_no, 'subject': subject, 'unit_no': unit_no}\n",
    "        docs.append(doc)\n",
    "\n",
    "    return docs\n",
    "\n",
    "def convert_df_val_to_int(value):\n",
    "    if isinstance(value, str):\n",
    "        if value.isnumeric():\n",
    "            return int(value)\n",
    "    \n",
    "    if isinstance(value, float):\n",
    "        if not pd.isna(value):\n",
    "            return int(value)\n",
    "        else:\n",
    "            return \"\"\n",
    "        \n",
    "    else:\n",
    "        return value\n",
    "    \n",
    "\n",
    "\n",
    "def fetch_relevant_docs_from_vectorstore(vectorstore, topic: str, class_no: int, subject: str, unit_no: int, no_docs: int = 3):\n",
    "    filters = {\n",
    "        'class': class_no,\n",
    "        'subject': subject,\n",
    "        'unit_no': unit_no\n",
    "    }\n",
    "    similar_docs = vectorstore.similarity_search(topic, k=no_docs, filter=filters)\n",
    "    return similar_docs\n"
   ]
  },
  {
   "cell_type": "code",
   "execution_count": 6,
   "metadata": {},
   "outputs": [
    {
     "name": "stdout",
     "output_type": "stream",
     "text": [
      "Loading embeddings and creating vectorstore..\n",
      "Chemistry 9.csv docs added to VDB-ALL-BOOKS\n",
      "Loading embeddings and vectorstore..\n",
      "Computer Sc. 9.csv docs added to VDB-ALL-BOOKS\n",
      "Loading embeddings and vectorstore..\n",
      "English 9.csv docs added to VDB-ALL-BOOKS\n",
      "Loading embeddings and vectorstore..\n",
      "Physics 9.csv docs added to VDB-ALL-BOOKS\n"
     ]
    }
   ],
   "source": [
    "dfs_dir = \"books_df_csvs\"\n",
    "\n",
    "\n",
    "for index, df_filename in enumerate(os.listdir(dfs_dir)):\n",
    "    df_path = os.path.join(dfs_dir, df_filename)\n",
    "    df = QuizGenerator.load_dataframe(df_path)\n",
    "    docs = convert_df_to_docs_with_proper_metadata(df)\n",
    "\n",
    "    if not index == 0:\n",
    "        vectorstore = load_vectorstore(BOOKS_VDB_PATH)\n",
    "        add_docs_to_chroma_vectorstore(docs, vectorstore)\n",
    "    else:\n",
    "        vectorstore = create_vectorstore(docs, BOOKS_VDB_PATH)\n",
    "\n",
    "    print(f\"{df_filename} docs added to {BOOKS_VDB_PATH}\")"
   ]
  },
  {
   "cell_type": "code",
   "execution_count": null,
   "metadata": {},
   "outputs": [],
   "source": []
  }
 ],
 "metadata": {
  "kernelspec": {
   "display_name": "langchain",
   "language": "python",
   "name": "python3"
  },
  "language_info": {
   "codemirror_mode": {
    "name": "ipython",
    "version": 3
   },
   "file_extension": ".py",
   "mimetype": "text/x-python",
   "name": "python",
   "nbconvert_exporter": "python",
   "pygments_lexer": "ipython3",
   "version": "3.12.4"
  }
 },
 "nbformat": 4,
 "nbformat_minor": 2
}
